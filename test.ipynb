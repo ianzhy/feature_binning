{
 "cells": [
  {
   "cell_type": "markdown",
   "metadata": {},
   "source": [
    "\n",
    "requirment:\n",
    "python==3.6.5\n",
    "flask"
   ]
  },
  {
   "cell_type": "code",
   "execution_count": null,
   "metadata": {
    "vscode": {
     "languageId": "html"
    }
   },
   "outputs": [],
   "source": []
  },
  {
   "cell_type": "code",
   "execution_count": 4,
   "metadata": {},
   "outputs": [],
   "source": [
    "import importlib\n",
    "import featurebinning as fb\n",
    "importlib.reload(fb)\n",
    "\n",
    "import pandas as pd"
   ]
  },
  {
   "cell_type": "code",
   "execution_count": 5,
   "metadata": {},
   "outputs": [
    {
     "data": {
      "text/plain": [
       "(20000, 50)"
      ]
     },
     "metadata": {},
     "output_type": "display_data"
    },
    {
     "data": {
      "text/html": [
       "<div>\n",
       "<style scoped>\n",
       "    .dataframe tbody tr th:only-of-type {\n",
       "        vertical-align: middle;\n",
       "    }\n",
       "\n",
       "    .dataframe tbody tr th {\n",
       "        vertical-align: top;\n",
       "    }\n",
       "\n",
       "    .dataframe thead th {\n",
       "        text-align: right;\n",
       "    }\n",
       "</style>\n",
       "<table border=\"1\" class=\"dataframe\">\n",
       "  <thead>\n",
       "    <tr style=\"text-align: right;\">\n",
       "      <th></th>\n",
       "      <th>var0</th>\n",
       "      <th>var1</th>\n",
       "      <th>var2</th>\n",
       "      <th>var3</th>\n",
       "      <th>var4</th>\n",
       "      <th>var5</th>\n",
       "      <th>var6</th>\n",
       "      <th>var7</th>\n",
       "      <th>var8</th>\n",
       "      <th>var9</th>\n",
       "      <th>...</th>\n",
       "      <th>var40</th>\n",
       "      <th>var41</th>\n",
       "      <th>var42</th>\n",
       "      <th>var43</th>\n",
       "      <th>var44</th>\n",
       "      <th>var45</th>\n",
       "      <th>var46</th>\n",
       "      <th>var47</th>\n",
       "      <th>var48</th>\n",
       "      <th>target</th>\n",
       "    </tr>\n",
       "  </thead>\n",
       "  <tbody>\n",
       "    <tr>\n",
       "      <th>188489</th>\n",
       "      <td>1.5</td>\n",
       "      <td>1.5</td>\n",
       "      <td>600.0</td>\n",
       "      <td>3.0</td>\n",
       "      <td>1.0</td>\n",
       "      <td>2.2</td>\n",
       "      <td>2.666667</td>\n",
       "      <td>4.000000</td>\n",
       "      <td>6.0</td>\n",
       "      <td>200.0</td>\n",
       "      <td>...</td>\n",
       "      <td>2.3061</td>\n",
       "      <td>0.0</td>\n",
       "      <td>2.000000</td>\n",
       "      <td>0.0</td>\n",
       "      <td>5.5</td>\n",
       "      <td>500.0</td>\n",
       "      <td>3.6</td>\n",
       "      <td>2.5</td>\n",
       "      <td>6000.0</td>\n",
       "      <td>0</td>\n",
       "    </tr>\n",
       "    <tr>\n",
       "      <th>133130</th>\n",
       "      <td>0.5</td>\n",
       "      <td>1.5</td>\n",
       "      <td>200.0</td>\n",
       "      <td>NaN</td>\n",
       "      <td>1.0</td>\n",
       "      <td>NaN</td>\n",
       "      <td>50.000000</td>\n",
       "      <td>0.000000</td>\n",
       "      <td>16.0</td>\n",
       "      <td>-99998.0</td>\n",
       "      <td>...</td>\n",
       "      <td>69.1830</td>\n",
       "      <td>-10000000.0</td>\n",
       "      <td>1.111111</td>\n",
       "      <td>0.0</td>\n",
       "      <td>22.5</td>\n",
       "      <td>100.0</td>\n",
       "      <td>NaN</td>\n",
       "      <td>0.5</td>\n",
       "      <td>8000.0</td>\n",
       "      <td>0</td>\n",
       "    </tr>\n",
       "    <tr>\n",
       "      <th>118749</th>\n",
       "      <td>0.5</td>\n",
       "      <td>1.5</td>\n",
       "      <td>600.0</td>\n",
       "      <td>NaN</td>\n",
       "      <td>1.0</td>\n",
       "      <td>NaN</td>\n",
       "      <td>8.000000</td>\n",
       "      <td>NaN</td>\n",
       "      <td>5.0</td>\n",
       "      <td>-99998.0</td>\n",
       "      <td>...</td>\n",
       "      <td>6.9183</td>\n",
       "      <td>-10000000.0</td>\n",
       "      <td>1.636364</td>\n",
       "      <td>0.0</td>\n",
       "      <td>5.5</td>\n",
       "      <td>100.0</td>\n",
       "      <td>NaN</td>\n",
       "      <td>0.5</td>\n",
       "      <td>4000.0</td>\n",
       "      <td>0</td>\n",
       "    </tr>\n",
       "    <tr>\n",
       "      <th>4345</th>\n",
       "      <td>0.5</td>\n",
       "      <td>0.5</td>\n",
       "      <td>5.0</td>\n",
       "      <td>NaN</td>\n",
       "      <td>1.0</td>\n",
       "      <td>NaN</td>\n",
       "      <td>0.000000</td>\n",
       "      <td>NaN</td>\n",
       "      <td>0.0</td>\n",
       "      <td>-99998.0</td>\n",
       "      <td>...</td>\n",
       "      <td>0.0000</td>\n",
       "      <td>-10000000.0</td>\n",
       "      <td>0.666667</td>\n",
       "      <td>0.0</td>\n",
       "      <td>1.5</td>\n",
       "      <td>100.0</td>\n",
       "      <td>NaN</td>\n",
       "      <td>0.5</td>\n",
       "      <td>4000.0</td>\n",
       "      <td>0</td>\n",
       "    </tr>\n",
       "    <tr>\n",
       "      <th>132270</th>\n",
       "      <td>0.5</td>\n",
       "      <td>1.5</td>\n",
       "      <td>200.0</td>\n",
       "      <td>0.0</td>\n",
       "      <td>1.0</td>\n",
       "      <td>3.0</td>\n",
       "      <td>60.000000</td>\n",
       "      <td>2.857143</td>\n",
       "      <td>12.0</td>\n",
       "      <td>200.0</td>\n",
       "      <td>...</td>\n",
       "      <td>70.0000</td>\n",
       "      <td>0.0</td>\n",
       "      <td>1.515152</td>\n",
       "      <td>0.0</td>\n",
       "      <td>16.5</td>\n",
       "      <td>100.0</td>\n",
       "      <td>0.0</td>\n",
       "      <td>0.5</td>\n",
       "      <td>8000.0</td>\n",
       "      <td>0</td>\n",
       "    </tr>\n",
       "  </tbody>\n",
       "</table>\n",
       "<p>5 rows × 50 columns</p>\n",
       "</div>"
      ],
      "text/plain": [
       "        var0  var1   var2  var3  var4  var5       var6      var7  var8  \\\n",
       "188489   1.5   1.5  600.0   3.0   1.0   2.2   2.666667  4.000000   6.0   \n",
       "133130   0.5   1.5  200.0   NaN   1.0   NaN  50.000000  0.000000  16.0   \n",
       "118749   0.5   1.5  600.0   NaN   1.0   NaN   8.000000       NaN   5.0   \n",
       "4345     0.5   0.5    5.0   NaN   1.0   NaN   0.000000       NaN   0.0   \n",
       "132270   0.5   1.5  200.0   0.0   1.0   3.0  60.000000  2.857143  12.0   \n",
       "\n",
       "           var9  ...    var40       var41     var42  var43  var44  var45  \\\n",
       "188489    200.0  ...   2.3061         0.0  2.000000    0.0    5.5  500.0   \n",
       "133130 -99998.0  ...  69.1830 -10000000.0  1.111111    0.0   22.5  100.0   \n",
       "118749 -99998.0  ...   6.9183 -10000000.0  1.636364    0.0    5.5  100.0   \n",
       "4345   -99998.0  ...   0.0000 -10000000.0  0.666667    0.0    1.5  100.0   \n",
       "132270    200.0  ...  70.0000         0.0  1.515152    0.0   16.5  100.0   \n",
       "\n",
       "        var46  var47   var48  target  \n",
       "188489    3.6    2.5  6000.0       0  \n",
       "133130    NaN    0.5  8000.0       0  \n",
       "118749    NaN    0.5  4000.0       0  \n",
       "4345      NaN    0.5  4000.0       0  \n",
       "132270    0.0    0.5  8000.0       0  \n",
       "\n",
       "[5 rows x 50 columns]"
      ]
     },
     "metadata": {},
     "output_type": "display_data"
    },
    {
     "name": "stdout",
     "output_type": "stream",
     "text": [
      "running\n",
      " * Serving Flask app \"binning_server\" (lazy loading)\n",
      " * Environment: development\n",
      " * Debug mode: off\n"
     ]
    },
    {
     "name": "stderr",
     "output_type": "stream",
     "text": [
      " * Running on http://127.0.0.1:50000/ (Press CTRL+C to quit)\n",
      "127.0.0.1 - - [17/Oct/2023 09:53:38] \"GET /test?var=var0 HTTP/1.1\" 200 -\n",
      "127.0.0.1 - - [17/Oct/2023 09:53:38] \"GET /static/range-slider.css HTTP/1.1\" 304 -\n",
      "127.0.0.1 - - [17/Oct/2023 09:53:38] \"GET /static/jquery.min.js HTTP/1.1\" 304 -\n",
      "127.0.0.1 - - [17/Oct/2023 09:53:38] \"GET /static/echarts.min.js HTTP/1.1\" 304 -\n",
      "127.0.0.1 - - [17/Oct/2023 09:53:38] \"GET /static/range-slider.js HTTP/1.1\" 304 -\n",
      "127.0.0.1 - - [17/Oct/2023 09:53:46] \"GET /shutdown HTTP/1.1\" 200 -\n",
      "127.0.0.1 - - [17/Oct/2023 09:53:59] \"GET /test?var=var0 HTTP/1.1\" 200 -\n"
     ]
    }
   ],
   "source": [
    "data1 = pd.read_pickle(\"./data_sample.pkl\")\n",
    "display(data1.shape)\n",
    "display(data1.head())\n",
    "wt = fb.WideTable(data1)\n",
    "wt.run_app()"
   ]
  },
  {
   "cell_type": "code",
   "execution_count": 14,
   "metadata": {},
   "outputs": [
    {
     "data": {
      "text/html": [
       "<iframe src=\"http://127.0.0.1:50000/test?var=var7&step=1\" width=\"90%\" height=\"720px\" style=\"background-color:antiquewhite\"></iframe>"
      ],
      "text/plain": [
       "<IPython.core.display.HTML object>"
      ]
     },
     "metadata": {},
     "output_type": "display_data"
    }
   ],
   "source": [
    "%%HTML\n",
    "<iframe src=\"http://127.0.0.1:50000/test?var=var7&step=1\" width=\"90%\" height=\"720px\" style=\"background-color:antiquewhite\"></iframe>"
   ]
  },
  {
   "cell_type": "code",
   "execution_count": 15,
   "metadata": {},
   "outputs": [
    {
     "data": {
      "text/html": [
       "<iframe src=\"http://127.0.0.1:50000/shutdown\"  style=\"background-color:antiquewhite\"></iframe>"
      ],
      "text/plain": [
       "<IPython.core.display.HTML object>"
      ]
     },
     "metadata": {},
     "output_type": "display_data"
    }
   ],
   "source": [
    "%%HTML\n",
    "<iframe src=\"http://127.0.0.1:50000/shutdown\"  style=\"background-color:antiquewhite\"></iframe>"
   ]
  },
  {
   "cell_type": "code",
   "execution_count": 12,
   "metadata": {},
   "outputs": [],
   "source": [
    "#TODO:\n",
    "# 1) url param加min和max\n",
    "# 2） hover 在点上的时候，对应bar高亮"
   ]
  },
  {
   "cell_type": "code",
   "execution_count": 6,
   "metadata": {
    "vscode": {
     "languageId": "html"
    }
   },
   "outputs": [
    {
     "data": {
      "text/html": [
       "<iframe src=\"http://127.0.0.1:50000/\" width=\"100%\" height=\"500px\" style=\"background-color:antiquewhite\"></iframe>"
      ],
      "text/plain": [
       "<IPython.core.display.HTML object>"
      ]
     },
     "metadata": {},
     "output_type": "display_data"
    }
   ],
   "source": []
  },
  {
   "cell_type": "code",
   "execution_count": 8,
   "metadata": {},
   "outputs": [
    {
     "data": {
      "text/plain": [
       "'[{\"0\": Infinity, \"1\": NaN, \"2\": -Infinity, \"3\": 1, \"4\": \"a\"}]'"
      ]
     },
     "execution_count": 8,
     "metadata": {},
     "output_type": "execute_result"
    }
   ],
   "source": [
    "from flask import jsonify\n",
    "import json\n",
    "json.dumps(pd.DataFrame([[np.inf,np.nan,-np.inf,1,\"a\"]]).to_dict(orient=\"records\"  ))"
   ]
  },
  {
   "cell_type": "code",
   "execution_count": null,
   "metadata": {},
   "outputs": [],
   "source": []
  }
 ],
 "metadata": {
  "kernelspec": {
   "display_name": "Python 3",
   "language": "python",
   "name": "python3"
  },
  "language_info": {
   "codemirror_mode": {
    "name": "ipython",
    "version": 3
   },
   "file_extension": ".py",
   "mimetype": "text/x-python",
   "name": "python",
   "nbconvert_exporter": "python",
   "pygments_lexer": "ipython3",
   "version": "3.6.5"
  }
 },
 "nbformat": 4,
 "nbformat_minor": 2
}
