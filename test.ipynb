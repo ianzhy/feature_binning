{
 "cells": [
  {
   "cell_type": "markdown",
   "metadata": {},
   "source": [
    "\n",
    "requirment:\n",
    "python==3.6.5\n",
    "flask"
   ]
  },
  {
   "cell_type": "code",
   "execution_count": null,
   "metadata": {
    "vscode": {
     "languageId": "html"
    }
   },
   "outputs": [],
   "source": []
  },
  {
   "cell_type": "code",
   "execution_count": 1,
   "metadata": {},
   "outputs": [],
   "source": [
    "import pandas as pd\n",
    "import numpy as np\n",
    "import threading\n",
    "import json\n",
    "from flask import Flask, jsonify, render_template,request,Markup\n",
    "\n",
    "class WideTable:\n",
    "    def __init__(self,df):\n",
    "        self.df = df\n",
    "        self.bin_dict = {}\n",
    "\n",
    "    def var_stat(self,var,splits=None):\n",
    "        if splits is None: \n",
    "            if var not in self.bin_dict:\n",
    "                categories, bins = pd.qcut(self.df[var], 20, retbins=True,duplicates=\"drop\")\n",
    "            else:\n",
    "                bins = self.bin_dict[var]\n",
    "                categories = pd.cut(self.df[var], bins=bins)\n",
    "        else:\n",
    "            bins = [self.df[var].min()-1] + sorted(splits) + [self.df[var].max()+1]\n",
    "            categories = pd.cut(self.df[var], bins=bins)\n",
    "\n",
    "        stats = self.df.groupby(categories.cat.codes).agg({\"target\":[\n",
    "            \"count\",                # number of observations\n",
    "            \"mean\",                 # bad_rate\n",
    "            lambda x:(x==1).sum(),  # number of bads\n",
    "            lambda x:(x==0).sum(),  # number of goods\n",
    "        ]})\n",
    "        stats = stats.reset_index()\n",
    "        stats.columns = [\"bin\",\"nobs\",\"bad_rate\",\"bad\",\"good\"]\n",
    "        total_bad,total_good = stats[\"bad\"].sum(), stats[\"good\"].sum()\n",
    "        stats[\"woe\"] = stats.apply(lambda x:np.log((x[\"bad\"]+1)/total_bad)-np.log((x[\"good\"]+1)/total_good),axis=1)\n",
    "        stats[\"iv\"] = stats[\"woe\"]*(stats[\"bad\"]/total_bad-stats[\"good\"]/total_good)\n",
    "        \n",
    "        stats[\"interval\"] = stats[\"bin\"].map(lambda x:str(categories.cat.categories[x]) if x>=0 else \"N/A\") \n",
    "        info = {\n",
    "            \"var\":var,\n",
    "            \"splits\":list(categories.cat.categories.left)[1:], # left edge not needed, only the splits\n",
    "            \"max\":self.df[var].max(),\n",
    "            \"min\":self.df[var].min(),\n",
    "            \"iv\":stats[\"iv\"].sum(),\n",
    "            \"total\":int(stats[\"nobs\"].sum()),    \n",
    "        }\n",
    "                \n",
    "        return stats, info\n",
    "    \n",
    "    def update_bin(self,var,bins):\n",
    "        self.bin_dict[var] = bins\n",
    "\n"
   ]
  },
  {
   "cell_type": "code",
   "execution_count": 14,
   "metadata": {},
   "outputs": [
    {
     "data": {
      "text/plain": [
       "(20000, 50)"
      ]
     },
     "execution_count": 14,
     "metadata": {},
     "output_type": "execute_result"
    }
   ],
   "source": [
    "data1 = pd.read_pickle(\"./data_sample.pkl\")\n",
    "data1.shape\n",
    "data1.head()\n",
    "wt = WideTable(data1)"
   ]
  },
  {
   "cell_type": "code",
   "execution_count": 9,
   "metadata": {},
   "outputs": [],
   "source": []
  },
  {
   "cell_type": "code",
   "execution_count": null,
   "metadata": {},
   "outputs": [
    {
     "name": "stdout",
     "output_type": "stream",
     "text": [
      "running * Serving Flask app \"data_server\" (lazy loading)\n",
      "\n",
      " * Environment: development\n",
      " * Debug mode: off\n"
     ]
    },
    {
     "name": "stderr",
     "output_type": "stream",
     "text": [
      " * Running on http://127.0.0.1:50000/ (Press CTRL+C to quit)\n",
      "127.0.0.1 - - [13/Oct/2023 13:12:56] \"GET /test?var=bairong_als_699&step=0.1&xtype=log HTTP/1.1\" 200 -\n",
      "127.0.0.1 - - [13/Oct/2023 13:12:58] \"POST /test?var=bairong_als_699 HTTP/1.1\" 200 -\n",
      "127.0.0.1 - - [13/Oct/2023 13:13:06] \"POST /test?var=bairong_als_699 HTTP/1.1\" 200 -\n",
      "127.0.0.1 - - [13/Oct/2023 13:13:08] \"POST /test?var=bairong_als_699 HTTP/1.1\" 200 -\n",
      "127.0.0.1 - - [13/Oct/2023 13:13:09] \"POST /test?var=bairong_als_699 HTTP/1.1\" 200 -\n",
      "127.0.0.1 - - [13/Oct/2023 13:13:10] \"POST /test?var=bairong_als_699 HTTP/1.1\" 200 -\n",
      "127.0.0.1 - - [13/Oct/2023 13:13:15] \"GET /test?var=bairong_als_699&step=1&xtype=log HTTP/1.1\" 200 -\n",
      "127.0.0.1 - - [13/Oct/2023 13:13:18] \"POST /test?var=bairong_als_699 HTTP/1.1\" 200 -\n",
      "127.0.0.1 - - [13/Oct/2023 13:30:36] \"GET /test?var=bairong_als_699&step=1&xtype=log HTTP/1.1\" 200 -\n",
      "127.0.0.1 - - [13/Oct/2023 13:30:36] \"GET /static/range-slider.css HTTP/1.1\" 200 -\n",
      "127.0.0.1 - - [13/Oct/2023 13:30:36] \"GET /static/echarts.min.js HTTP/1.1\" 200 -\n",
      "127.0.0.1 - - [13/Oct/2023 13:30:36] \"GET /static/range-slider.js HTTP/1.1\" 200 -\n",
      "127.0.0.1 - - [13/Oct/2023 13:30:36] \"GET /favicon.ico HTTP/1.1\" 404 -\n",
      "127.0.0.1 - - [13/Oct/2023 13:30:44] \"GET /test?var=bairong_als_699&step=1&xtype=log HTTP/1.1\" 200 -\n",
      "127.0.0.1 - - [13/Oct/2023 13:30:44] \"GET /static/range-slider.css HTTP/1.1\" 200 -\n",
      "127.0.0.1 - - [13/Oct/2023 13:30:44] \"GET /static/echarts.min.js HTTP/1.1\" 200 -\n",
      "127.0.0.1 - - [13/Oct/2023 13:30:44] \"GET /static/range-slider.js HTTP/1.1\" 200 -\n",
      "127.0.0.1 - - [13/Oct/2023 13:30:45] \"GET /favicon.ico HTTP/1.1\" 404 -\n"
     ]
    }
   ],
   "source": [
    "\n",
    "\n",
    "app = Flask(\"data_server\",static_folder=\"./flask_file\",template_folder=\"./flask_file\",static_url_path=\"/static\")\n",
    "\n",
    "DATA = {} #{\"data1\":data1}\n",
    "html_str = \"\"\n",
    "\n",
    "@app.route(\"/data_list\",methods=[\"GET\"])\n",
    "def get_data():\n",
    "    return jsonify(list(DATA.keys()))\n",
    "\n",
    "@app.route(\"/data_desc/<data_name>\",methods=[\"GET\"])\n",
    "def get_data_desc(data_name):\n",
    "    desc = {\n",
    "        \"shape\":str(DATA[data_name].shape),\n",
    "        \"columns\":str(DATA[data_name].columns),\n",
    "        \"indexs\":str(DATA[data_name].index),\n",
    "    }\n",
    "    return jsonify(desc)\n",
    "\n",
    "@app.route(\"/data1/<ind>/<col>\",methods=[\"GET\"])\n",
    "def get_data_by_key(ind,col):\n",
    "    return jsonify(str(DATA['data1'].loc[ind,col]))\n",
    "\n",
    "@app.route(\"/data_set/<key>/<value>\",methods=[\"GET\"])\n",
    "def set_data_by_key(key,value):\n",
    "    DATA[key] = value\n",
    "    return jsonify(\"ok\")\n",
    "\n",
    "@app.route(\"/test\",methods=[\"GET\",\"POST\"])\n",
    "def test():\n",
    "    if request.method == \"GET\":\n",
    "        var = request.args.get(\"var\")\n",
    "        stats, info = wt.var_stat(var)\n",
    "        return render_template(\n",
    "            \"test.html\",\n",
    "            data=Markup({\"df\":stats.to_dict(orient=\"records\"),\"info\":info})\n",
    "        )\n",
    "    else:\n",
    "        var = request.args.get(\"var\",\"\")\n",
    "        splits = json.loads(request.data)\n",
    "        stats, info = wt.var_stat(var,splits)\n",
    "        return jsonify({\"df\":stats.to_dict(orient=\"records\"),\"info\":info})\n",
    "\n",
    "\n",
    "app.config[\"ENV\"] = \"development\"\n",
    "app.config[\"TEMPLATES_AUTO_RELOAD\"] = True\n",
    "t=threading.Thread(target=app.run,kwargs={'port':50000})\n",
    "t.start()\n",
    "print('running')\n",
    "# app.run(port=50000,threaded=True)"
   ]
  },
  {
   "cell_type": "code",
   "execution_count": 7,
   "metadata": {
    "vscode": {
     "languageId": "html"
    }
   },
   "outputs": [
    {
     "data": {
      "text/html": [
       "<iframe src=\"http://127.0.0.1:50000/test?var=bairong_als_699&step=1&xtype=log\" width=\"100%\" height=\"500px\" style=\"background-color:antiquewhite\"></iframe>"
      ],
      "text/plain": [
       "<IPython.core.display.HTML object>"
      ]
     },
     "metadata": {},
     "output_type": "display_data"
    },
    {
     "name": "stderr",
     "output_type": "stream",
     "text": [
      "127.0.0.1 - - [13/Oct/2023 13:38:30] \"GET /test?var=bairong_als_699&step=1&xtype=log HTTP/1.1\" 200 -\n",
      "[2023-10-13 13:38:48,896] ERROR in app: Exception on /test [POST]\n",
      "Traceback (most recent call last):\n",
      "  File \"d:\\Anaconda\\lib\\site-packages\\flask\\app.py\", line 2292, in wsgi_app\n",
      "    response = self.full_dispatch_request()\n",
      "  File \"d:\\Anaconda\\lib\\site-packages\\flask\\app.py\", line 1815, in full_dispatch_request\n",
      "    rv = self.handle_user_exception(e)\n",
      "  File \"d:\\Anaconda\\lib\\site-packages\\flask\\app.py\", line 1718, in handle_user_exception\n",
      "    reraise(exc_type, exc_value, tb)\n",
      "  File \"d:\\Anaconda\\lib\\site-packages\\flask\\_compat.py\", line 35, in reraise\n",
      "    raise value\n",
      "  File \"d:\\Anaconda\\lib\\site-packages\\flask\\app.py\", line 1813, in full_dispatch_request\n",
      "    rv = self.dispatch_request()\n",
      "  File \"d:\\Anaconda\\lib\\site-packages\\flask\\app.py\", line 1799, in dispatch_request\n",
      "    return self.view_functions[rule.endpoint](**req.view_args)\n",
      "  File \"<ipython-input-2-b62aef6f1250>\", line 42, in test\n",
      "    stats, info = wt.var_stat(var,splits)\n",
      "  File \"<ipython-input-1-f6d3d6b6443b>\", line 21, in var_stat\n",
      "    categories = pd.cut(self.df[var], bins=bins)\n",
      "  File \"d:\\Anaconda\\lib\\site-packages\\pandas\\core\\reshape\\tile.py\", line 284, in cut\n",
      "    ordered=ordered,\n",
      "  File \"d:\\Anaconda\\lib\\site-packages\\pandas\\core\\reshape\\tile.py\", line 402, in _bins_to_cuts\n",
      "    f\"Bin edges must be unique: {repr(bins)}.\\n\"\n",
      "ValueError: Bin edges must be unique: array([  0.,   2.,   4.,   4.,   6.,   7.,   9.,  10.,  12.,  13.,  15.,\n",
      "        17.,  19.,  21.,  24.,  27.,  31.,  37.,  44.,  58., 182.]).\n",
      "You can drop duplicate edges by setting the 'duplicates' kwarg\n",
      "127.0.0.1 - - [13/Oct/2023 13:38:48] \"POST /test?var=bairong_als_699 HTTP/1.1\" 500 -\n",
      "127.0.0.1 - - [13/Oct/2023 13:39:02] \"POST /test?var=bairong_als_699 HTTP/1.1\" 200 -\n",
      "127.0.0.1 - - [13/Oct/2023 13:39:19] \"POST /test?var=bairong_als_699 HTTP/1.1\" 200 -\n",
      "127.0.0.1 - - [13/Oct/2023 13:39:21] \"POST /test?var=bairong_als_699 HTTP/1.1\" 200 -\n"
     ]
    }
   ],
   "source": [
    "%%HTML\n",
    "<iframe src=\"http://127.0.0.1:50000/test?var=var1&step=1&xtype=log\" width=\"100%\" height=\"500px\" style=\"background-color:antiquewhite\"></iframe>"
   ]
  },
  {
   "cell_type": "code",
   "execution_count": null,
   "metadata": {},
   "outputs": [],
   "source": []
  }
 ],
 "metadata": {
  "kernelspec": {
   "display_name": "base",
   "language": "python",
   "name": "python3"
  },
  "language_info": {
   "codemirror_mode": {
    "name": "ipython",
    "version": 3
   },
   "file_extension": ".py",
   "mimetype": "text/x-python",
   "name": "python",
   "nbconvert_exporter": "python",
   "pygments_lexer": "ipython3",
   "version": "3.6.5"
  }
 },
 "nbformat": 4,
 "nbformat_minor": 2
}
