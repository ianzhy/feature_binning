{
 "cells": [
  {
   "cell_type": "markdown",
   "metadata": {},
   "source": [
    "\n",
    "requirment:\n",
    "python==3.6.5\n",
    "flask"
   ]
  },
  {
   "cell_type": "markdown",
   "metadata": {
    "vscode": {
     "languageId": "html"
    }
   },
   "source": [
    "# load sample data"
   ]
  },
  {
   "cell_type": "code",
   "execution_count": 1,
   "metadata": {},
   "outputs": [],
   "source": [
    "import importlib\n",
    "import featurebinning as fb\n",
    "importlib.reload(fb)\n",
    "\n",
    "import pandas as pd"
   ]
  },
  {
   "cell_type": "code",
   "execution_count": 2,
   "metadata": {},
   "outputs": [
    {
     "data": {
      "text/html": [
       "<div>\n",
       "<style scoped>\n",
       "    .dataframe tbody tr th:only-of-type {\n",
       "        vertical-align: middle;\n",
       "    }\n",
       "\n",
       "    .dataframe tbody tr th {\n",
       "        vertical-align: top;\n",
       "    }\n",
       "\n",
       "    .dataframe thead th {\n",
       "        text-align: right;\n",
       "    }\n",
       "</style>\n",
       "<table border=\"1\" class=\"dataframe\">\n",
       "  <thead>\n",
       "    <tr style=\"text-align: right;\">\n",
       "      <th></th>\n",
       "      <th>var0</th>\n",
       "      <th>var1</th>\n",
       "      <th>var2</th>\n",
       "      <th>var3</th>\n",
       "      <th>var4</th>\n",
       "      <th>var5</th>\n",
       "      <th>var6</th>\n",
       "      <th>var7</th>\n",
       "      <th>var8</th>\n",
       "      <th>var9</th>\n",
       "      <th>...</th>\n",
       "      <th>var40</th>\n",
       "      <th>var41</th>\n",
       "      <th>var42</th>\n",
       "      <th>var43</th>\n",
       "      <th>var44</th>\n",
       "      <th>var45</th>\n",
       "      <th>var46</th>\n",
       "      <th>var47</th>\n",
       "      <th>var48</th>\n",
       "      <th>target</th>\n",
       "    </tr>\n",
       "  </thead>\n",
       "  <tbody>\n",
       "    <tr>\n",
       "      <th>0</th>\n",
       "      <td>1.5</td>\n",
       "      <td>1.5</td>\n",
       "      <td>600.0</td>\n",
       "      <td>3.0</td>\n",
       "      <td>1.0</td>\n",
       "      <td>2.2</td>\n",
       "      <td>2.666667</td>\n",
       "      <td>4.0</td>\n",
       "      <td>6.0</td>\n",
       "      <td>200.0</td>\n",
       "      <td>...</td>\n",
       "      <td>2.3061</td>\n",
       "      <td>0.0</td>\n",
       "      <td>2.000000</td>\n",
       "      <td>0.0</td>\n",
       "      <td>5.5</td>\n",
       "      <td>500.0</td>\n",
       "      <td>3.6</td>\n",
       "      <td>2.5</td>\n",
       "      <td>6000.0</td>\n",
       "      <td>0</td>\n",
       "    </tr>\n",
       "    <tr>\n",
       "      <th>1</th>\n",
       "      <td>0.5</td>\n",
       "      <td>1.5</td>\n",
       "      <td>200.0</td>\n",
       "      <td>NaN</td>\n",
       "      <td>1.0</td>\n",
       "      <td>NaN</td>\n",
       "      <td>50.000000</td>\n",
       "      <td>0.0</td>\n",
       "      <td>16.0</td>\n",
       "      <td>-99998.0</td>\n",
       "      <td>...</td>\n",
       "      <td>69.1830</td>\n",
       "      <td>-10000000.0</td>\n",
       "      <td>1.111111</td>\n",
       "      <td>0.0</td>\n",
       "      <td>22.5</td>\n",
       "      <td>100.0</td>\n",
       "      <td>NaN</td>\n",
       "      <td>0.5</td>\n",
       "      <td>8000.0</td>\n",
       "      <td>0</td>\n",
       "    </tr>\n",
       "  </tbody>\n",
       "</table>\n",
       "<p>2 rows × 50 columns</p>\n",
       "</div>"
      ],
      "text/plain": [
       "   var0  var1   var2  var3  var4  var5       var6  var7  var8     var9  \\\n",
       "0   1.5   1.5  600.0   3.0   1.0   2.2   2.666667   4.0   6.0    200.0   \n",
       "1   0.5   1.5  200.0   NaN   1.0   NaN  50.000000   0.0  16.0 -99998.0   \n",
       "\n",
       "    ...      var40       var41     var42  var43  var44  var45  var46  var47  \\\n",
       "0   ...     2.3061         0.0  2.000000    0.0    5.5  500.0    3.6    2.5   \n",
       "1   ...    69.1830 -10000000.0  1.111111    0.0   22.5  100.0    NaN    0.5   \n",
       "\n",
       "    var48  target  \n",
       "0  6000.0       0  \n",
       "1  8000.0       0  \n",
       "\n",
       "[2 rows x 50 columns]"
      ]
     },
     "metadata": {},
     "output_type": "display_data"
    },
    {
     "name": "stdout",
     "output_type": "stream",
     "text": [
      "(20000, 50)\n"
     ]
    }
   ],
   "source": [
    "data1 = pd.read_csv(\"./data_sample.csv\")\n",
    "display(data1.head(2))\n",
    "print(data1.shape)"
   ]
  },
  {
   "cell_type": "code",
   "execution_count": 3,
   "metadata": {},
   "outputs": [
    {
     "name": "stdout",
     "output_type": "stream",
     "text": [
      "bin cache file found at d:\\zhangyin\\project\\local_tools\\feature_binning\\bin_info.json\n",
      "{}\n",
      "{'var0': '变量0', 'var2': '变量2'}\n"
     ]
    }
   ],
   "source": [
    "wt = fb.WideTable(data1)\n",
    "print(wt.label_mapping)\n",
    "wt.label_mapping.update({\"var0\":'变量0',\"var2\":'变量2'})\n",
    "print(wt.label_mapping)"
   ]
  },
  {
   "cell_type": "code",
   "execution_count": 4,
   "metadata": {},
   "outputs": [],
   "source": [
    "wt.refs= [data1.sample(n=10000)]"
   ]
  },
  {
   "cell_type": "code",
   "execution_count": 5,
   "metadata": {},
   "outputs": [
    {
     "name": "stdout",
     "output_type": "stream",
     "text": [
      "server running on 127.0.0.1:50000\n",
      " * Serving Flask app \"binning_server\" (lazy loading)\n"
     ]
    },
    {
     "data": {
      "text/plain": [
       "<Thread(Thread-5, started daemon 32424)>"
      ]
     },
     "execution_count": 5,
     "metadata": {},
     "output_type": "execute_result"
    },
    {
     "name": "stdout",
     "output_type": "stream",
     "text": [
      " * Environment: development\n",
      " * Debug mode: off\n"
     ]
    }
   ],
   "source": [
    "wt.run_app()"
   ]
  },
  {
   "cell_type": "code",
   "execution_count": 6,
   "metadata": {},
   "outputs": [
    {
     "data": {
      "text/html": [
       "<iframe src=\"http://127.0.0.1:50000/test?var=var7\" width=\"90%\" height=\"1000px\" style=\"background-color:antiquewhite\"></iframe>\n"
      ],
      "text/plain": [
       "<IPython.core.display.HTML object>"
      ]
     },
     "metadata": {},
     "output_type": "display_data"
    }
   ],
   "source": [
    "%%HTML\n",
    "<iframe src=\"c/test?var=var7\" width=\"90%\" height=\"1000px\" style=\"background-color:antiquewhite\"></iframe>"
   ]
  },
  {
   "cell_type": "code",
   "execution_count": 7,
   "metadata": {},
   "outputs": [],
   "source": [
    "wt.refs.append(data1.sample(n=2000))"
   ]
  },
  {
   "cell_type": "code",
   "execution_count": 5,
   "metadata": {},
   "outputs": [
    {
     "name": "stdout",
     "output_type": "stream",
     "text": [
      "var0: woes set to zero for very small bins\n",
      "   total  bad  good\n",
      "2     10    1     9\n"
     ]
    },
    {
     "data": {
      "text/plain": [
       "188489    1\n",
       "133130    0\n",
       "118749    0\n",
       "4345      0\n",
       "132270    0\n",
       "dtype: int8"
      ]
     },
     "metadata": {},
     "output_type": "display_data"
    },
    {
     "data": {
      "text/plain": [
       "{0: '(-99998.00200000001, 0.5]', 1: '(0.5, 20.501]', 2: '(20.501, inf]'}"
      ]
     },
     "metadata": {},
     "output_type": "display_data"
    },
    {
     "data": {
      "text/plain": [
       "188489   -0.112290\n",
       "133130   -0.031534\n",
       "118749   -0.031534\n",
       "4345     -0.031534\n",
       "132270   -0.031534\n",
       "dtype: float64"
      ]
     },
     "metadata": {},
     "output_type": "display_data"
    },
    {
     "data": {
      "text/plain": [
       "{-1: 0.1428944938022283,\n",
       " 0: -0.03153395573963996,\n",
       " 1: -0.11229036298730305,\n",
       " 2: 0.0}"
      ]
     },
     "metadata": {},
     "output_type": "display_data"
    }
   ],
   "source": [
    "df_raw = pd.read_pickle(\"./data_sample.pkl\")\n",
    "var_bin,bin_label,var_woe,woe_bin_mapping = wt.var_cut(df_raw,\"var0\",calculate_woe=True)\n",
    "display(var_bin.head())\n",
    "display(bin_label)\n",
    "display(var_woe.head())\n",
    "display(woe_bin_mapping)\n",
    "var_bin,bin_label,var_woe,woe_bin_mapping"
   ]
  },
  {
   "cell_type": "code",
   "execution_count": 9,
   "metadata": {},
   "outputs": [
    {
     "data": {
      "text/plain": [
       "188489    1\n",
       "133130    0\n",
       "118749    0\n",
       "4345      0\n",
       "132270    0\n",
       "dtype: int8"
      ]
     },
     "metadata": {},
     "output_type": "display_data"
    },
    {
     "data": {
      "text/plain": [
       "{0: '(-99998.00200000001, 0.5]', 1: '(0.5, 20.501]', 2: '(20.501, inf]'}"
      ]
     },
     "metadata": {},
     "output_type": "display_data"
    }
   ],
   "source": [
    "var_bin,bin_label = wt.var_cut(df_raw,\"var0\",calculate_woe=False)\n",
    "display(var_bin.head())\n",
    "display(bin_label)"
   ]
  },
  {
   "cell_type": "code",
   "execution_count": null,
   "metadata": {},
   "outputs": [],
   "source": []
  },
  {
   "cell_type": "code",
   "execution_count": 8,
   "metadata": {},
   "outputs": [
    {
     "name": "stdout",
     "output_type": "stream",
     "text": [
      "var7,var11\n"
     ]
    }
   ],
   "source": [
    "# 部署\n",
    "import json\n",
    "\n",
    "with open(\"./bin_info.json\",\"r\") as f:\n",
    "    bin_info_dict = json.load(f)\n",
    "\n",
    "print(\",\".join(bin_info_dict.keys()))\n",
    "\n",
    "\n",
    "\n",
    "\n"
   ]
  },
  {
   "cell_type": "code",
   "execution_count": null,
   "metadata": {},
   "outputs": [],
   "source": [
    "import json\n",
    "import pandas as pd\n",
    "import joblib\n",
    "import os\n",
    "import numpy as np\n",
    "from cachetools import LRUCache\n",
    "from cachetools import cached\n",
    "import lightgbm as lgb\n",
    "\n",
    "# 缓存\n",
    "lrucache = LRUCache(maxsize=50)\n",
    "@cached(lrucache)\n",
    "def get_lgbm(fname):\n",
    "    print(fname)\n",
    "    return joblib.load(fname)\n",
    "\n",
    "cpath = \"./\" #os.path.dirname(__file__)\n",
    "filename = 'a4_app_md1027_150631.pkl'\n",
    "full_name = os.path.join(cpath, filename)\n",
    "model_data = get_lgbm(full_name)\n",
    "\n",
    "LGBM = lgb.Booster(train_set=lgb.Dataset(np.array([[0]])))\n",
    "LGBM.model_from_string(model_data[\"model\"])\n",
    "BIN_INFO = pd.DataFrame.from_dict(json.loads(model_data[\"bins\"]))\n",
    "\n",
    "\n",
    "def encode(v,bins):\n",
    "    if pd.isnull(v):\n",
    "        return -1\n",
    "    for i,edge in enumerate(bins[1:-1]):\n",
    "        if v <= edge:\n",
    "            return i\n",
    "    return len(bins)-2\n",
    "\n",
    "\n",
    "FEAURE_IN = \"var0,var1,var2\".split(\",\")\n",
    "\n",
    "def model_predict(**kwargs):\n",
    "    for f in FEAURE_IN:\n",
    "        if f not in kwargs:\n",
    "            raise Exception(f\"feature {f} not in input\")\n",
    "    for f in kwargs:\n",
    "        if f in bin_info.columns:\n",
    "            kwargs[f] = encode(kwargs[f],BIN_INFO[f])\n",
    "\n",
    "    "
   ]
  },
  {
   "cell_type": "code",
   "execution_count": 8,
   "metadata": {},
   "outputs": [],
   "source": [
    "import numpy as np\n",
    "import pandas as pd\n",
    "import json"
   ]
  },
  {
   "cell_type": "code",
   "execution_count": 9,
   "metadata": {},
   "outputs": [],
   "source": [
    "df = pd.DataFrame(np.random.randint(10,size=(100,3)),columns=[\"var0\",\"var1\",\"var2\"]).astype(float)\n",
    "df.iloc[0] = np.nan\n",
    "df[\"va1\"] = df[\"var1\"].astype(str)+ '_s'"
   ]
  },
  {
   "cell_type": "code",
   "execution_count": 10,
   "metadata": {},
   "outputs": [
    {
     "data": {
      "text/html": [
       "<div>\n",
       "<style scoped>\n",
       "    .dataframe tbody tr th:only-of-type {\n",
       "        vertical-align: middle;\n",
       "    }\n",
       "\n",
       "    .dataframe tbody tr th {\n",
       "        vertical-align: top;\n",
       "    }\n",
       "\n",
       "    .dataframe thead th {\n",
       "        text-align: right;\n",
       "    }\n",
       "</style>\n",
       "<table border=\"1\" class=\"dataframe\">\n",
       "  <thead>\n",
       "    <tr style=\"text-align: right;\">\n",
       "      <th></th>\n",
       "      <th>var0</th>\n",
       "      <th>var1</th>\n",
       "      <th>var2</th>\n",
       "    </tr>\n",
       "  </thead>\n",
       "  <tbody>\n",
       "    <tr>\n",
       "      <th>count</th>\n",
       "      <td>99.000000</td>\n",
       "      <td>99.000000</td>\n",
       "      <td>99.000000</td>\n",
       "    </tr>\n",
       "    <tr>\n",
       "      <th>mean</th>\n",
       "      <td>4.545455</td>\n",
       "      <td>4.474747</td>\n",
       "      <td>4.858586</td>\n",
       "    </tr>\n",
       "    <tr>\n",
       "      <th>std</th>\n",
       "      <td>2.959843</td>\n",
       "      <td>2.879709</td>\n",
       "      <td>2.751660</td>\n",
       "    </tr>\n",
       "    <tr>\n",
       "      <th>min</th>\n",
       "      <td>0.000000</td>\n",
       "      <td>0.000000</td>\n",
       "      <td>0.000000</td>\n",
       "    </tr>\n",
       "    <tr>\n",
       "      <th>25%</th>\n",
       "      <td>2.000000</td>\n",
       "      <td>2.000000</td>\n",
       "      <td>3.000000</td>\n",
       "    </tr>\n",
       "    <tr>\n",
       "      <th>50%</th>\n",
       "      <td>4.000000</td>\n",
       "      <td>4.000000</td>\n",
       "      <td>5.000000</td>\n",
       "    </tr>\n",
       "    <tr>\n",
       "      <th>75%</th>\n",
       "      <td>7.500000</td>\n",
       "      <td>7.000000</td>\n",
       "      <td>7.000000</td>\n",
       "    </tr>\n",
       "    <tr>\n",
       "      <th>max</th>\n",
       "      <td>9.000000</td>\n",
       "      <td>9.000000</td>\n",
       "      <td>9.000000</td>\n",
       "    </tr>\n",
       "  </tbody>\n",
       "</table>\n",
       "</div>"
      ],
      "text/plain": [
       "            var0       var1       var2\n",
       "count  99.000000  99.000000  99.000000\n",
       "mean    4.545455   4.474747   4.858586\n",
       "std     2.959843   2.879709   2.751660\n",
       "min     0.000000   0.000000   0.000000\n",
       "25%     2.000000   2.000000   3.000000\n",
       "50%     4.000000   4.000000   5.000000\n",
       "75%     7.500000   7.000000   7.000000\n",
       "max     9.000000   9.000000   9.000000"
      ]
     },
     "execution_count": 10,
     "metadata": {},
     "output_type": "execute_result"
    }
   ],
   "source": [
    "d1 = df.describe()\n",
    "d1"
   ]
  },
  {
   "cell_type": "code",
   "execution_count": 11,
   "metadata": {},
   "outputs": [
    {
     "data": {
      "text/html": [
       "<div>\n",
       "<style scoped>\n",
       "    .dataframe tbody tr th:only-of-type {\n",
       "        vertical-align: middle;\n",
       "    }\n",
       "\n",
       "    .dataframe tbody tr th {\n",
       "        vertical-align: top;\n",
       "    }\n",
       "\n",
       "    .dataframe thead th {\n",
       "        text-align: right;\n",
       "    }\n",
       "</style>\n",
       "<table border=\"1\" class=\"dataframe\">\n",
       "  <thead>\n",
       "    <tr style=\"text-align: right;\">\n",
       "      <th></th>\n",
       "      <th>var0</th>\n",
       "      <th>var1</th>\n",
       "      <th>var2</th>\n",
       "      <th>va1</th>\n",
       "    </tr>\n",
       "  </thead>\n",
       "  <tbody>\n",
       "    <tr>\n",
       "      <th>count</th>\n",
       "      <td>99.000000</td>\n",
       "      <td>99.000000</td>\n",
       "      <td>99.000000</td>\n",
       "      <td>100</td>\n",
       "    </tr>\n",
       "    <tr>\n",
       "      <th>unique</th>\n",
       "      <td>NaN</td>\n",
       "      <td>NaN</td>\n",
       "      <td>NaN</td>\n",
       "      <td>11</td>\n",
       "    </tr>\n",
       "    <tr>\n",
       "      <th>top</th>\n",
       "      <td>NaN</td>\n",
       "      <td>NaN</td>\n",
       "      <td>NaN</td>\n",
       "      <td>1.0_s</td>\n",
       "    </tr>\n",
       "    <tr>\n",
       "      <th>freq</th>\n",
       "      <td>NaN</td>\n",
       "      <td>NaN</td>\n",
       "      <td>NaN</td>\n",
       "      <td>13</td>\n",
       "    </tr>\n",
       "    <tr>\n",
       "      <th>mean</th>\n",
       "      <td>4.545455</td>\n",
       "      <td>4.474747</td>\n",
       "      <td>4.858586</td>\n",
       "      <td>NaN</td>\n",
       "    </tr>\n",
       "    <tr>\n",
       "      <th>std</th>\n",
       "      <td>2.959843</td>\n",
       "      <td>2.879709</td>\n",
       "      <td>2.751660</td>\n",
       "      <td>NaN</td>\n",
       "    </tr>\n",
       "    <tr>\n",
       "      <th>min</th>\n",
       "      <td>0.000000</td>\n",
       "      <td>0.000000</td>\n",
       "      <td>0.000000</td>\n",
       "      <td>NaN</td>\n",
       "    </tr>\n",
       "    <tr>\n",
       "      <th>25%</th>\n",
       "      <td>2.000000</td>\n",
       "      <td>2.000000</td>\n",
       "      <td>3.000000</td>\n",
       "      <td>NaN</td>\n",
       "    </tr>\n",
       "    <tr>\n",
       "      <th>50%</th>\n",
       "      <td>4.000000</td>\n",
       "      <td>4.000000</td>\n",
       "      <td>5.000000</td>\n",
       "      <td>NaN</td>\n",
       "    </tr>\n",
       "    <tr>\n",
       "      <th>75%</th>\n",
       "      <td>7.500000</td>\n",
       "      <td>7.000000</td>\n",
       "      <td>7.000000</td>\n",
       "      <td>NaN</td>\n",
       "    </tr>\n",
       "    <tr>\n",
       "      <th>max</th>\n",
       "      <td>9.000000</td>\n",
       "      <td>9.000000</td>\n",
       "      <td>9.000000</td>\n",
       "      <td>NaN</td>\n",
       "    </tr>\n",
       "  </tbody>\n",
       "</table>\n",
       "</div>"
      ],
      "text/plain": [
       "             var0       var1       var2    va1\n",
       "count   99.000000  99.000000  99.000000    100\n",
       "unique        NaN        NaN        NaN     11\n",
       "top           NaN        NaN        NaN  1.0_s\n",
       "freq          NaN        NaN        NaN     13\n",
       "mean     4.545455   4.474747   4.858586    NaN\n",
       "std      2.959843   2.879709   2.751660    NaN\n",
       "min      0.000000   0.000000   0.000000    NaN\n",
       "25%      2.000000   2.000000   3.000000    NaN\n",
       "50%      4.000000   4.000000   5.000000    NaN\n",
       "75%      7.500000   7.000000   7.000000    NaN\n",
       "max      9.000000   9.000000   9.000000    NaN"
      ]
     },
     "execution_count": 11,
     "metadata": {},
     "output_type": "execute_result"
    }
   ],
   "source": [
    "d2 = df.describe(include=\"all\")\n",
    "d2"
   ]
  },
  {
   "cell_type": "code",
   "execution_count": 12,
   "metadata": {},
   "outputs": [
    {
     "data": {
      "text/plain": [
       "'<table border=\"1\" class=\"dataframe\">\\n  <thead>\\n    <tr style=\"text-align: right;\">\\n      <th></th>\\n      <th>var0</th>\\n      <th>var1</th>\\n      <th>var2</th>\\n      <th>va1</th>\\n    </tr>\\n  </thead>\\n  <tbody>\\n    <tr>\\n      <th>count</th>\\n      <td>99.000000</td>\\n      <td>99.000000</td>\\n      <td>99.000000</td>\\n      <td>100</td>\\n    </tr>\\n    <tr>\\n      <th>unique</th>\\n      <td>&amp;nbsp-&amp;nbsp</td>\\n      <td>&amp;nbsp-&amp;nbsp</td>\\n      <td>&amp;nbsp-&amp;nbsp</td>\\n      <td>11</td>\\n    </tr>\\n    <tr>\\n      <th>top</th>\\n      <td>&amp;nbsp-&amp;nbsp</td>\\n      <td>&amp;nbsp-&amp;nbsp</td>\\n      <td>&amp;nbsp-&amp;nbsp</td>\\n      <td>1.0_s</td>\\n    </tr>\\n    <tr>\\n      <th>freq</th>\\n      <td>&amp;nbsp-&amp;nbsp</td>\\n      <td>&amp;nbsp-&amp;nbsp</td>\\n      <td>&amp;nbsp-&amp;nbsp</td>\\n      <td>13</td>\\n    </tr>\\n    <tr>\\n      <th>mean</th>\\n      <td>4.545455</td>\\n      <td>4.474747</td>\\n      <td>4.858586</td>\\n      <td>&amp;nbsp-&amp;nbsp</td>\\n    </tr>\\n    <tr>\\n      <th>std</th>\\n      <td>2.959843</td>\\n      <td>2.879709</td>\\n      <td>2.751660</td>\\n      <td>&amp;nbsp-&amp;nbsp</td>\\n    </tr>\\n    <tr>\\n      <th>min</th>\\n      <td>0.000000</td>\\n      <td>0.000000</td>\\n      <td>0.000000</td>\\n      <td>&amp;nbsp-&amp;nbsp</td>\\n    </tr>\\n    <tr>\\n      <th>25%</th>\\n      <td>2.000000</td>\\n      <td>2.000000</td>\\n      <td>3.000000</td>\\n      <td>&amp;nbsp-&amp;nbsp</td>\\n    </tr>\\n    <tr>\\n      <th>50%</th>\\n      <td>4.000000</td>\\n      <td>4.000000</td>\\n      <td>5.000000</td>\\n      <td>&amp;nbsp-&amp;nbsp</td>\\n    </tr>\\n    <tr>\\n      <th>75%</th>\\n      <td>7.500000</td>\\n      <td>7.000000</td>\\n      <td>7.000000</td>\\n      <td>&amp;nbsp-&amp;nbsp</td>\\n    </tr>\\n    <tr>\\n      <th>max</th>\\n      <td>9.000000</td>\\n      <td>9.000000</td>\\n      <td>9.000000</td>\\n      <td>&amp;nbsp-&amp;nbsp</td>\\n    </tr>\\n  </tbody>\\n</table>'"
      ]
     },
     "metadata": {},
     "output_type": "display_data"
    }
   ],
   "source": [
    "display(d2.to_html(na_rep='&nbsp-&nbsp',))"
   ]
  },
  {
   "cell_type": "code",
   "execution_count": 13,
   "metadata": {},
   "outputs": [
    {
     "data": {
      "text/plain": [
       "'<table border=\"1\" class=\"dataframe\">\\n  <thead>\\n    <tr style=\"text-align: right;\">\\n      <th></th>\\n      <th>var0</th>\\n      <th>var1</th>\\n      <th>var2</th>\\n      <th>va1</th>\\n    </tr>\\n  </thead>\\n  <tbody>\\n    <tr>\\n      <th>count</th>\\n      <td>99.00</td>\\n      <td>99.00</td>\\n      <td>99.00</td>\\n      <td>100</td>\\n    </tr>\\n    <tr>\\n      <th>unique</th>\\n      <td>NaN</td>\\n      <td>NaN</td>\\n      <td>NaN</td>\\n      <td>11</td>\\n    </tr>\\n    <tr>\\n      <th>top</th>\\n      <td>NaN</td>\\n      <td>NaN</td>\\n      <td>NaN</td>\\n      <td>1.0_s</td>\\n    </tr>\\n    <tr>\\n      <th>freq</th>\\n      <td>NaN</td>\\n      <td>NaN</td>\\n      <td>NaN</td>\\n      <td>13</td>\\n    </tr>\\n    <tr>\\n      <th>mean</th>\\n      <td>4.55</td>\\n      <td>4.47</td>\\n      <td>4.86</td>\\n      <td>NaN</td>\\n    </tr>\\n    <tr>\\n      <th>std</th>\\n      <td>2.96</td>\\n      <td>2.88</td>\\n      <td>2.75</td>\\n      <td>NaN</td>\\n    </tr>\\n    <tr>\\n      <th>min</th>\\n      <td>0.00</td>\\n      <td>0.00</td>\\n      <td>0.00</td>\\n      <td>NaN</td>\\n    </tr>\\n    <tr>\\n      <th>25%</th>\\n      <td>2.00</td>\\n      <td>2.00</td>\\n      <td>3.00</td>\\n      <td>NaN</td>\\n    </tr>\\n    <tr>\\n      <th>50%</th>\\n      <td>4.00</td>\\n      <td>4.00</td>\\n      <td>5.00</td>\\n      <td>NaN</td>\\n    </tr>\\n    <tr>\\n      <th>75%</th>\\n      <td>7.50</td>\\n      <td>7.00</td>\\n      <td>7.00</td>\\n      <td>NaN</td>\\n    </tr>\\n    <tr>\\n      <th>max</th>\\n      <td>9.00</td>\\n      <td>9.00</td>\\n      <td>9.00</td>\\n      <td>NaN</td>\\n    </tr>\\n  </tbody>\\n</table>'"
      ]
     },
     "execution_count": 13,
     "metadata": {},
     "output_type": "execute_result"
    }
   ],
   "source": [
    "from collections import defaultdict\n",
    "d2.to_html(float_format=\"%.2f\")"
   ]
  },
  {
   "cell_type": "code",
   "execution_count": 18,
   "metadata": {},
   "outputs": [
    {
     "ename": "TypeError",
     "evalue": "format() got an unexpected keyword argument 'na_rep'",
     "output_type": "error",
     "traceback": [
      "\u001b[1;31m---------------------------------------------------------------------------\u001b[0m",
      "\u001b[1;31mTypeError\u001b[0m                                 Traceback (most recent call last)",
      "\u001b[1;32m<ipython-input-18-744ac300039f>\u001b[0m in \u001b[0;36m<module>\u001b[1;34m\u001b[0m\n\u001b[1;32m----> 1\u001b[1;33m \u001b[0md2\u001b[0m\u001b[1;33m.\u001b[0m\u001b[0mstyle\u001b[0m\u001b[1;33m.\u001b[0m\u001b[0mformat\u001b[0m\u001b[1;33m(\u001b[0m\u001b[0mna_rep\u001b[0m\u001b[1;33m=\u001b[0m\u001b[1;34m''\u001b[0m\u001b[1;33m)\u001b[0m\u001b[1;33m\u001b[0m\u001b[1;33m\u001b[0m\u001b[0m\n\u001b[0m",
      "\u001b[1;31mTypeError\u001b[0m: format() got an unexpected keyword argument 'na_rep'"
     ]
    }
   ],
   "source": [
    "d2.style.format(na_rep='')"
   ]
  },
  {
   "cell_type": "code",
   "execution_count": 20,
   "metadata": {},
   "outputs": [
    {
     "name": "stdout",
     "output_type": "stream",
     "text": [
      "\u001b[1;31mType:\u001b[0m        property\n",
      "\u001b[1;31mString form:\u001b[0m <property object at 0x000002C5C9AFBE08>\n",
      "\u001b[1;31mDocstring:\u001b[0m  \n",
      "Property returning a Styler object containing methods for\n",
      "building a styled HTML representation fo the DataFrame.\n",
      "\n",
      "See Also\n",
      "--------\n",
      "pandas.io.formats.style.Styler\n"
     ]
    }
   ],
   "source": [
    "d2.style."
   ]
  },
  {
   "cell_type": "code",
   "execution_count": null,
   "metadata": {},
   "outputs": [],
   "source": []
  }
 ],
 "metadata": {
  "kernelspec": {
   "display_name": "py368",
   "language": "python",
   "name": "python3"
  },
  "language_info": {
   "codemirror_mode": {
    "name": "ipython",
    "version": 3
   },
   "file_extension": ".py",
   "mimetype": "text/x-python",
   "name": "python",
   "nbconvert_exporter": "python",
   "pygments_lexer": "ipython3",
   "version": "3.6.8"
  }
 },
 "nbformat": 4,
 "nbformat_minor": 2
}
