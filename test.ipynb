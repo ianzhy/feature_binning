{
 "cells": [
  {
   "cell_type": "markdown",
   "metadata": {},
   "source": [
    "\n",
    "requirment:\n",
    "python==3.6.5\n",
    "flask"
   ]
  },
  {
   "cell_type": "code",
   "execution_count": null,
   "metadata": {
    "vscode": {
     "languageId": "html"
    }
   },
   "outputs": [],
   "source": []
  },
  {
   "cell_type": "code",
   "execution_count": 1,
   "metadata": {},
   "outputs": [],
   "source": [
    "import importlib\n",
    "import featurebinning as fb\n",
    "importlib.reload(fb)\n",
    "\n",
    "import pandas as pd"
   ]
  },
  {
   "cell_type": "code",
   "execution_count": 2,
   "metadata": {},
   "outputs": [
    {
     "data": {
      "text/html": [
       "<div>\n",
       "<style scoped>\n",
       "    .dataframe tbody tr th:only-of-type {\n",
       "        vertical-align: middle;\n",
       "    }\n",
       "\n",
       "    .dataframe tbody tr th {\n",
       "        vertical-align: top;\n",
       "    }\n",
       "\n",
       "    .dataframe thead th {\n",
       "        text-align: right;\n",
       "    }\n",
       "</style>\n",
       "<table border=\"1\" class=\"dataframe\">\n",
       "  <thead>\n",
       "    <tr style=\"text-align: right;\">\n",
       "      <th></th>\n",
       "      <th>var0</th>\n",
       "      <th>var1</th>\n",
       "      <th>var2</th>\n",
       "      <th>var3</th>\n",
       "      <th>var4</th>\n",
       "      <th>var5</th>\n",
       "      <th>var6</th>\n",
       "      <th>var7</th>\n",
       "      <th>var8</th>\n",
       "      <th>var9</th>\n",
       "      <th>...</th>\n",
       "      <th>var40</th>\n",
       "      <th>var41</th>\n",
       "      <th>var42</th>\n",
       "      <th>var43</th>\n",
       "      <th>var44</th>\n",
       "      <th>var45</th>\n",
       "      <th>var46</th>\n",
       "      <th>var47</th>\n",
       "      <th>var48</th>\n",
       "      <th>target</th>\n",
       "    </tr>\n",
       "  </thead>\n",
       "  <tbody>\n",
       "    <tr>\n",
       "      <th>188489</th>\n",
       "      <td>1.5</td>\n",
       "      <td>1.5</td>\n",
       "      <td>600.0</td>\n",
       "      <td>3.0</td>\n",
       "      <td>1.0</td>\n",
       "      <td>2.2</td>\n",
       "      <td>2.666667</td>\n",
       "      <td>4.0</td>\n",
       "      <td>6.0</td>\n",
       "      <td>200.0</td>\n",
       "      <td>...</td>\n",
       "      <td>2.3061</td>\n",
       "      <td>0.0</td>\n",
       "      <td>2.000000</td>\n",
       "      <td>0.0</td>\n",
       "      <td>5.5</td>\n",
       "      <td>500.0</td>\n",
       "      <td>3.6</td>\n",
       "      <td>2.5</td>\n",
       "      <td>6000.0</td>\n",
       "      <td>0</td>\n",
       "    </tr>\n",
       "    <tr>\n",
       "      <th>133130</th>\n",
       "      <td>0.5</td>\n",
       "      <td>1.5</td>\n",
       "      <td>200.0</td>\n",
       "      <td>NaN</td>\n",
       "      <td>1.0</td>\n",
       "      <td>NaN</td>\n",
       "      <td>50.000000</td>\n",
       "      <td>0.0</td>\n",
       "      <td>16.0</td>\n",
       "      <td>-99998.0</td>\n",
       "      <td>...</td>\n",
       "      <td>69.1830</td>\n",
       "      <td>-10000000.0</td>\n",
       "      <td>1.111111</td>\n",
       "      <td>0.0</td>\n",
       "      <td>22.5</td>\n",
       "      <td>100.0</td>\n",
       "      <td>NaN</td>\n",
       "      <td>0.5</td>\n",
       "      <td>8000.0</td>\n",
       "      <td>0</td>\n",
       "    </tr>\n",
       "  </tbody>\n",
       "</table>\n",
       "<p>2 rows × 50 columns</p>\n",
       "</div>"
      ],
      "text/plain": [
       "        var0  var1   var2  var3  var4  var5       var6  var7  var8     var9  \\\n",
       "188489   1.5   1.5  600.0   3.0   1.0   2.2   2.666667   4.0   6.0    200.0   \n",
       "133130   0.5   1.5  200.0   NaN   1.0   NaN  50.000000   0.0  16.0 -99998.0   \n",
       "\n",
       "        ...    var40       var41     var42  var43  var44  var45  var46  var47  \\\n",
       "188489  ...   2.3061         0.0  2.000000    0.0    5.5  500.0    3.6    2.5   \n",
       "133130  ...  69.1830 -10000000.0  1.111111    0.0   22.5  100.0    NaN    0.5   \n",
       "\n",
       "         var48  target  \n",
       "188489  6000.0       0  \n",
       "133130  8000.0       0  \n",
       "\n",
       "[2 rows x 50 columns]"
      ]
     },
     "metadata": {},
     "output_type": "display_data"
    }
   ],
   "source": [
    "data1 = pd.read_pickle(\"./data_sample.pkl\")\n",
    "display(data1.head(2))"
   ]
  },
  {
   "cell_type": "code",
   "execution_count": 3,
   "metadata": {},
   "outputs": [
    {
     "name": "stdout",
     "output_type": "stream",
     "text": [
      "{}\n",
      "{'var0': '变量0', 'var2': '变量2'}\n"
     ]
    }
   ],
   "source": [
    "wt = fb.WideTable(data1)\n",
    "print(wt.label_mapping)\n",
    "wt.label_mapping.update({\"var0\":'变量0',\"var2\":'变量2'})\n",
    "print(wt.label_mapping)"
   ]
  },
  {
   "cell_type": "code",
   "execution_count": 4,
   "metadata": {},
   "outputs": [
    {
     "name": "stdout",
     "output_type": "stream",
     "text": [
      "server running on 127.0.0.1:50000 * Serving Flask app \"binning_server\" (lazy loading)\n",
      "\n"
     ]
    },
    {
     "data": {
      "text/plain": [
       "<Thread(Thread-57, started daemon 3328)>"
      ]
     },
     "execution_count": 4,
     "metadata": {},
     "output_type": "execute_result"
    },
    {
     "name": "stdout",
     "output_type": "stream",
     "text": [
      " * Environment: development\n",
      " * Debug mode: off\n"
     ]
    }
   ],
   "source": [
    "wt.run_app()"
   ]
  },
  {
   "cell_type": "code",
   "execution_count": 3,
   "metadata": {},
   "outputs": [
    {
     "data": {
      "text/html": [
       "<iframe src=\"http://127.0.0.1:50000/test?var=var7\" width=\"90%\" height=\"720px\" style=\"background-color:antiquewhite\"></iframe>"
      ],
      "text/plain": [
       "<IPython.core.display.HTML object>"
      ]
     },
     "metadata": {},
     "output_type": "display_data"
    }
   ],
   "source": [
    "%%HTML\n",
    "<iframe src=\"http://127.0.0.1:50000/test?var=var7\" width=\"90%\" height=\"720px\" style=\"background-color:antiquewhite\"></iframe>"
   ]
  },
  {
   "cell_type": "code",
   "execution_count": 5,
   "metadata": {},
   "outputs": [
    {
     "data": {
      "text/plain": [
       "<Logger werkzeug (INFO)>"
      ]
     },
     "execution_count": 5,
     "metadata": {},
     "output_type": "execute_result"
    }
   ],
   "source": []
  },
  {
   "cell_type": "code",
   "execution_count": 5,
   "metadata": {},
   "outputs": [
    {
     "name": "stdout",
     "output_type": "stream",
     "text": [
      "var0: woes set to zero for very small bins\n",
      "   total  bad  good\n",
      "2     10    1     9\n"
     ]
    },
    {
     "data": {
      "text/plain": [
       "188489    1\n",
       "133130    0\n",
       "118749    0\n",
       "4345      0\n",
       "132270    0\n",
       "dtype: int8"
      ]
     },
     "metadata": {},
     "output_type": "display_data"
    },
    {
     "data": {
      "text/plain": [
       "{0: '(-99998.00200000001, 0.5]', 1: '(0.5, 20.501]', 2: '(20.501, inf]'}"
      ]
     },
     "metadata": {},
     "output_type": "display_data"
    },
    {
     "data": {
      "text/plain": [
       "188489   -0.112290\n",
       "133130   -0.031534\n",
       "118749   -0.031534\n",
       "4345     -0.031534\n",
       "132270   -0.031534\n",
       "dtype: float64"
      ]
     },
     "metadata": {},
     "output_type": "display_data"
    },
    {
     "data": {
      "text/plain": [
       "{-1: 0.1428944938022283,\n",
       " 0: -0.03153395573963996,\n",
       " 1: -0.11229036298730305,\n",
       " 2: 0.0}"
      ]
     },
     "metadata": {},
     "output_type": "display_data"
    }
   ],
   "source": [
    "df_raw = pd.read_pickle(\"./data_sample.pkl\")\n",
    "var_bin,bin_label,var_woe,woe_bin_mapping = wt.var_cut(df_raw,\"var0\",calculate_woe=True)\n",
    "display(var_bin.head())\n",
    "display(bin_label)\n",
    "display(var_woe.head())\n",
    "display(woe_bin_mapping)\n",
    "var_bin,bin_label,var_woe,woe_bin_mapping"
   ]
  },
  {
   "cell_type": "code",
   "execution_count": 9,
   "metadata": {},
   "outputs": [
    {
     "data": {
      "text/plain": [
       "188489    1\n",
       "133130    0\n",
       "118749    0\n",
       "4345      0\n",
       "132270    0\n",
       "dtype: int8"
      ]
     },
     "metadata": {},
     "output_type": "display_data"
    },
    {
     "data": {
      "text/plain": [
       "{0: '(-99998.00200000001, 0.5]', 1: '(0.5, 20.501]', 2: '(20.501, inf]'}"
      ]
     },
     "metadata": {},
     "output_type": "display_data"
    }
   ],
   "source": [
    "var_bin,bin_label = wt.var_cut(df_raw,\"var0\",calculate_woe=False)\n",
    "display(var_bin.head())\n",
    "display(bin_label)"
   ]
  },
  {
   "cell_type": "code",
   "execution_count": null,
   "metadata": {},
   "outputs": [],
   "source": []
  },
  {
   "cell_type": "code",
   "execution_count": null,
   "metadata": {},
   "outputs": [],
   "source": [
    "# 部署\n",
    "bin_info = pd.read_csv(\"./bin_info.csv\",index_col=0)\n",
    "bins=bin_info.loc[[f for f in feature_list_train if f not in categorical_encode]].dropna(how=\"all\",axis=1)\n",
    "model_data = {\"bins\":bins.to_json(),\"model\":model_lgb.model_to_string()}\n",
    "joblib.dump(model_data,\"./a4_app_md1027_150631.pkl\")"
   ]
  },
  {
   "cell_type": "code",
   "execution_count": null,
   "metadata": {},
   "outputs": [],
   "source": [
    "import json\n",
    "import pandas as pd\n",
    "import joblib\n",
    "import os\n",
    "import numpy as np\n",
    "from cachetools import LRUCache\n",
    "from cachetools import cached\n",
    "import lightgbm as lgb\n",
    "\n",
    "# 缓存\n",
    "lrucache = LRUCache(maxsize=50)\n",
    "@cached(lrucache)\n",
    "def get_lgbm(fname):\n",
    "    print(fname)\n",
    "    return joblib.load(fname)\n",
    "\n",
    "cpath = \"./\" #os.path.dirname(__file__)\n",
    "filename = 'a4_app_md1027_150631.pkl'\n",
    "full_name = os.path.join(cpath, filename)\n",
    "model_data = get_lgbm(full_name)\n",
    "\n",
    "LGBM = lgb.Booster(train_set=lgb.Dataset(np.array([[0]])))\n",
    "LGBM.model_from_string(model_data[\"model\"])\n",
    "BIN_INFO = pd.DataFrame.from_dict(json.loads(model_data[\"bins\"]))\n",
    "\n",
    "\n",
    "def encode(v,bins):\n",
    "    if pd.isnull(v):\n",
    "        return -1\n",
    "    for i,edge in enumerate(bins[1:-1]):\n",
    "        if v <= edge:\n",
    "            return i\n",
    "    return len(bins)-2\n",
    "\n",
    "\n",
    "FEAURE_IN = \"var0,var1,var2\".split(\",\")\n",
    "\n",
    "def model_predict(**kwargs):\n",
    "    for f in FEAURE_IN:\n",
    "        if f not in kwargs:\n",
    "            raise Exception(f\"feature {f} not in input\")\n",
    "    for f in kwargs:\n",
    "        if f in bin_info.columns:\n",
    "            kwargs[f] = encode(kwargs[f],BIN_INFO[f])\n",
    "\n",
    "    "
   ]
  },
  {
   "cell_type": "code",
   "execution_count": null,
   "metadata": {},
   "outputs": [],
   "source": []
  }
 ],
 "metadata": {
  "kernelspec": {
   "display_name": "Python 3",
   "language": "python",
   "name": "python3"
  },
  "language_info": {
   "codemirror_mode": {
    "name": "ipython",
    "version": 3
   },
   "file_extension": ".py",
   "mimetype": "text/x-python",
   "name": "python",
   "nbconvert_exporter": "python",
   "pygments_lexer": "ipython3",
   "version": "3.6.5"
  }
 },
 "nbformat": 4,
 "nbformat_minor": 2
}
